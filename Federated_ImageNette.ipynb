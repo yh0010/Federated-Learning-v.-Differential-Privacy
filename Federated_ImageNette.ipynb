{
  "nbformat": 4,
  "nbformat_minor": 0,
  "metadata": {
    "colab": {
      "name": "Federated_ImageNette.ipynb",
      "provenance": [],
      "collapsed_sections": [],
      "include_colab_link": true
    },
    "kernelspec": {
      "name": "python3",
      "display_name": "Python 3"
    },
    "language_info": {
      "name": "python"
    },
    "accelerator": "GPU"
  },
  "cells": [
    {
      "cell_type": "markdown",
      "metadata": {
        "id": "view-in-github",
        "colab_type": "text"
      },
      "source": [
        "<a href=\"https://colab.research.google.com/github/yh0010/ML_Final_Project/blob/main/Federated_ImageNette.ipynb\" target=\"_parent\"><img src=\"https://colab.research.google.com/assets/colab-badge.svg\" alt=\"Open In Colab\"/></a>"
      ]
    },
    {
      "cell_type": "markdown",
      "source": [
        "# Federated Learning\n",
        "\n",
        "## Introduction\n",
        "\n",
        "It is common for many machine learning problems to start by first aggregating data across many different sources (servers, databases, mobile devices) into a central repository. This data can then be used to train a machine learning model.\n",
        "\n",
        "One problem with this method is that it requires potentially sensitive data to be exported externally. Even if its anonymized, if an attacker gets their hands on this data, they can cross reference it with other datasets in order to trace back sensitive information about the data owner. Not only does this introduce new avenues of attack that can potentially destabilize the data owner's privacy, but it also introduces the question of scalability. How much would it cost to maintain all this remote data in a single central DB? For some high frequency and high volume datasets, the cost is just too high, and this method doesn't scale well.\n",
        "\n",
        "Federated learning is an alternative paradigm for training models on data distributed across different remote sources that aims to solve this problem. Rather than aggregating the data from many different sources to a single central repository, in federated learning, the model itself is sent to the remote nodes. The model trains on the local data that is available on that resource and the new version of the model is sent back to the main process. This process can be repeated iteratively or in parallel across many different devices. There isn't any specefic sensitive information in the weights of the model alone, which helps ensure the privacy of the data owner.\n",
        "\n",
        "For this project, we use PySyft, which is a Python package that allows us to simulate federated learning environments. PySyft provides an interface to distribute data and models across different virtual remote worker nodes. This allows us to construct scenarios that closely mimic federated learning in the real world.\n",
        "\n",
        "In this notebook, we build on top of an [example notebook](https://github.com/OpenMined/PySyft/blob/PySyft/syft_0.2.x/examples/tutorials/Part%2007%20-%20Federated%20Learning%20with%20Federated%20Dataset.ipynb) available on the PySyft github page that trains a model on a simple federated dataset. In the notebook, the authors make a federated version of the Boston housing dataset and train a simple MLP classifier on the data. In this notebook, we follow a similar set of steps, however, we use a Resnet18 model and train it on the [imagenette](https://github.com/fastai/imagenette) dataset, which is a smaller version of the famous ImageNet dataset. In addition to training this new model using PySyft's federated learning environment, we also train the same model on the same dataset without using federated learning in order to explore some strengths and limitations of federated learning.\n",
        "\n",
        "Note that this notebook by itself is not considered to be our extension of the original notebook. This was used during the presentation as a starting point to explore and discuss the limitations of federated learning. The actual extensions comes from the comparison we make between vanilla federated learning methods and differential privacy. Specifically, a differentially private implementation of SGD, as a way to maintain privacy during the learning process. This will be available as a seperate notebook."
      ],
      "metadata": {
        "id": "DBQ8wdmnCbJ_"
      }
    },
    {
      "cell_type": "markdown",
      "source": [
        "We start by installing the necessary dependencies"
      ],
      "metadata": {
        "id": "GQElFpnnHyLn"
      }
    },
    {
      "cell_type": "code",
      "metadata": {
        "id": "CcLBjjsUSGkt"
      },
      "source": [
        "# install PySyft and restart the runtime\n",
        "from IPython.display import clear_output\n",
        "!pip install syft==0.2.9 >> /dev/null\n",
        "clear_output()\n",
        "exit()"
      ],
      "execution_count": null,
      "outputs": []
    },
    {
      "cell_type": "code",
      "metadata": {
        "id": "FVfTEUvnSK0I"
      },
      "source": [
        "import os\n",
        "import io\n",
        "import time\n",
        "import requests\n",
        "\n",
        "import torch\n",
        "import numpy as np\n",
        "import pandas as pd\n",
        "from tqdm import tqdm\n",
        "import syft as sy\n",
        "\n",
        "import torch.nn as nn\n",
        "import torch.nn.functional as F\n",
        "import torch.optim as optim\n",
        "from torch.utils.data import TensorDataset, DataLoader\n",
        "from torchvision import datasets, models, transforms\n",
        "\n",
        "torch.multiprocessing.set_start_method('spawn')"
      ],
      "execution_count": null,
      "outputs": []
    },
    {
      "cell_type": "markdown",
      "metadata": {
        "id": "UsqKfdEcTHNR"
      },
      "source": [
        "First, we download the imagenette dataset using fastai's vision library"
      ]
    },
    {
      "cell_type": "code",
      "metadata": {
        "id": "84hMktWkSzdq"
      },
      "source": [
        "from fastai.vision import untar_data, imagenet_stats, URLs\n",
        "\n",
        "# download data\n",
        "path = untar_data(URLs.IMAGENETTE_160)"
      ],
      "execution_count": null,
      "outputs": []
    },
    {
      "cell_type": "markdown",
      "source": [
        "## Creating a Centralized Dataset\n",
        "\n",
        "A centralized dataset is the kind that typically comes to mind when working on a Machine Learning problem. The data is stored in a single resource and can be accessed from a single development environment. As a result, much of the processing here is pretty standard. Here, we load the dataset from disk and apply some very simple pre-processing. We randomly crop the images, convert them to PyTorch tensors, and normalize the images with respect to the means for each color channel for the ImageNet dataset. The logic for loading this dataset was taken from this [PyTorch tutorial notebook](https://pytorch.org/tutorials/beginner/transfer_learning_tutorial.html)."
      ],
      "metadata": {
        "id": "ttxdWIWZHmp6"
      }
    },
    {
      "cell_type": "code",
      "source": [
        "def create_regular_dataset(path, normalize=False):\n",
        "  transform_ops = [\n",
        "    transforms.RandomResizedCrop(64),\n",
        "    transforms.ToTensor()\n",
        "  ]\n",
        "  if normalize:\n",
        "    transform_ops.append(transforms.Normalize(*imagenet_stats))\n",
        "  global_transforms = transforms.Compose(transform_ops)\n",
        "  \n",
        "  image_datasets = {x: datasets.ImageFolder(os.path.join(path, x),\n",
        "                                            global_transforms)\n",
        "                  for x in ['train', 'val']}\n",
        "\n",
        "  dataloaders = {x: torch.utils.data.DataLoader(image_datasets[x], batch_size=16,\n",
        "                              shuffle=True, num_workers=1)\n",
        "                  for x in ['train', 'val']}\n",
        "  print('Created dataloaders')\n",
        "  \n",
        "  # convert the training data to a list, this will make it easier to \n",
        "  # keep track of the batches when we distribute the dataset\n",
        "  dataloaders['train'] = [(data, target) for (data, target) in dataloaders['train']]\n",
        "  return dataloaders"
      ],
      "metadata": {
        "id": "z1MwFYcbH9yv"
      },
      "execution_count": null,
      "outputs": []
    },
    {
      "cell_type": "code",
      "source": [
        "regular_dataloader = create_regular_dataset(path, normalize=True)"
      ],
      "metadata": {
        "colab": {
          "base_uri": "https://localhost:8080/"
        },
        "id": "u0wE3_hPIiSv",
        "outputId": "4577ddf1-11fe-442f-cdd2-04f0d1b919cf"
      },
      "execution_count": null,
      "outputs": [
        {
          "output_type": "stream",
          "name": "stdout",
          "text": [
            "Created dataloaders\n"
          ]
        }
      ]
    },
    {
      "cell_type": "markdown",
      "source": [
        "Now that we have created our centralized dataset, let's train a simple ResNet18 model on this dataset. Note that we are particularly interested in optimizing performance, as a result, we make a few simplifications that make the learning process far simpler than one may expect when training this model on this dataset. First, we use a constant learning rate. Annealing the learning rate was recommended by many PyTorch tutorials, however, for this demo, it is not necessary. Second, we only train the model on a subset of the entire dataset. This is due to efficiency issues with PySyft. Our goal here is to make an even comparison between a regular model and a model trained in a federated learning environment. Initial experiments showed that training the federated learning model on the whole dataset takes an extreme amount of time, even when it's on a GPU. Therefore, we decided to limit the size of the dataset during training for both the regular and federated models. This still allows us to make an even comparison between the two models, while allowing us to quickly iterate through the development process. Third, we also only compare the training loss between the two models. Due to issues with [PySyft running on GPUs](https://github.com/OpenMined/PySyft/issues/2518), we ran into issues with training the model in a federated environment and evaluating it on a holdout set that wasn't distributed in the same way. We still believe that we can make comparisons between the performance and efficiency of federated and regularly learned models, however, we limit our discussions to training performance and forego discussions of performance on validation data or generalization capabilities."
      ],
      "metadata": {
        "id": "c0hdSazeIzAZ"
      }
    },
    {
      "cell_type": "markdown",
      "source": [
        "## Writing the Training Script\n",
        "\n",
        "Here, we define the process for training the actual model. For a centralized dataset, this process is pretty standard. We iterate through a set number of epochs. For each epoch, we loop through each batch in the dataset, perform a forward pass, and perform a backward pass to update the model. This function returns the training loss at the end of each epoch.\n",
        "\n",
        "We can modify this function slightly to support federated learning environments. In a federated environment, the data is not available locally on the same device that the model was defined on. So we have to figure out what device the data is on, send the model to that device, learning from the local data there, and send the updated model back.\n",
        "\n",
        "Much of the logic to send the model to the worker and retrieve the model after a network update was taken from [this PySyft tutorial notebook](https://github.com/OpenMined/PySyft/blob/PySyft/syft_0.2.x/examples/tutorials/Part%2007%20-%20Federated%20Learning%20with%20Federated%20Dataset.ipynb)."
      ],
      "metadata": {
        "id": "WTWpFZdbLmHm"
      }
    },
    {
      "cell_type": "code",
      "source": [
        "def train_model(model, dataloader, criterion, optimizer, subset_size=None, num_epochs=10, federated=False):\n",
        "  torch.set_default_tensor_type(torch.cuda.FloatTensor)\n",
        "  device = torch.device('cuda:0' if torch.cuda.is_available() else 'cpu')\n",
        "  model.to(device) # move model to GPU\n",
        "  model.train()\n",
        "\n",
        "  # setup lists for logging metrics\n",
        "  losses = []\n",
        "  epoch_times = [] # track time for each single epoch\n",
        "  update_times = [] # track time for each forward and backward pass\n",
        "  process_times = []\n",
        "\n",
        "  # enter training loop\n",
        "  for epoch in tqdm(range(num_epochs)):\n",
        "    epoch_start = time.time()\n",
        "\n",
        "    model.train()\n",
        "    iterator = enumerate(dataloader['train'])\n",
        "  \n",
        "    update_times_per_batch = [] \n",
        "    process_times_per_batch = []\n",
        "    for batch_idx, (data, target) in iterator:\n",
        "      # limit learning to subset of entire dataset\n",
        "      if subset_size is not None and batch_idx == subset_size:\n",
        "        break\n",
        "      \n",
        "      process_start = time.time()\n",
        "      # send data and labels to GPU, if available\n",
        "      data = data.to(device)\n",
        "      target = target.to(device)\n",
        "      \n",
        "      optimizer.zero_grad()\n",
        "      \n",
        "\n",
        "      # send model to virtual device if federated\n",
        "      if federated:\n",
        "        worker = data.location\n",
        "        model.send(worker)\n",
        "      process_elapsed = time.time() - process_start\n",
        "      update_start = time.time()\n",
        "      \n",
        "      # forward\n",
        "      with torch.set_grad_enabled(True):\n",
        "        outputs = model(data)\n",
        "        _, preds = torch.max(outputs, 1)\n",
        "        loss = criterion(outputs, target)\n",
        "\n",
        "        # backward\n",
        "        loss.backward()\n",
        "        optimizer.step()\n",
        "        update_times_per_batch.append(time.time() - update_start)\n",
        "      \n",
        "        # send the model back to the main process (central server), if federated\n",
        "        retrieve_elapsed = 0\n",
        "        if federated:\n",
        "          retrieve_start = time.time()\n",
        "          model.get()\n",
        "          retrieve_elapsed = time.time() - retrieve_start\n",
        "        process_times_per_batch.append(process_elapsed + retrieve_elapsed)\n",
        "    \n",
        "    # record metrics\n",
        "    losses.append(float(loss.get() if federated else float(loss)))\n",
        "    epoch_times.append(time.time() - epoch_start)\n",
        "    update_times.append(np.mean(update_times_per_batch))\n",
        "    process_times.append(np.mean(process_times_per_batch))\n",
        "\n",
        "  times = {'epoch': epoch_times, 'update': update_times, 'process': process_times}\n",
        "  return losses, times"
      ],
      "metadata": {
        "id": "DgZxf89zLj4S"
      },
      "execution_count": null,
      "outputs": []
    },
    {
      "cell_type": "markdown",
      "source": [
        "## Training the Regular Model"
      ],
      "metadata": {
        "id": "3QSSBTHzQ2o4"
      }
    },
    {
      "cell_type": "code",
      "source": [
        "model_reg = models.resnet18(pretrained=True)\n",
        "model_reg.fc = nn.Linear(model_reg.fc.in_features, 10) # modify output layer\n",
        "\n",
        "loss_regular, time_regular = train_model(\n",
        "    model_reg,\n",
        "    regular_dataloader,\n",
        "    criterion=nn.CrossEntropyLoss(),\n",
        "    optimizer=optim.SGD(model_reg.parameters(), lr=0.001),\n",
        "    subset_size=10,\n",
        "    num_epochs=10,\n",
        "    federated=False\n",
        "    )"
      ],
      "metadata": {
        "id": "URiRDNNiQ-SQ",
        "colab": {
          "base_uri": "https://localhost:8080/"
        },
        "outputId": "2b5e77a4-faa3-4be2-ccd8-9a65b4de66c6"
      },
      "execution_count": null,
      "outputs": [
        {
          "output_type": "stream",
          "name": "stderr",
          "text": [
            "100%|██████████| 10/10 [00:01<00:00,  5.28it/s]\n"
          ]
        }
      ]
    },
    {
      "cell_type": "markdown",
      "source": [
        "## Creating a Federated Dataset\n",
        "\n",
        "In a federated dataset, the data is distributed across many remote compute nodes. Using PySyft, we can simulate this in our local development environment by creating virtual workers. These virtual workers are seperate Python processes that manage their own state and data. In order to create a federated environment, we have to distribute our data across a set of virtual nodes. We start by first defining the logic to create these virtual workers."
      ],
      "metadata": {
        "id": "s5FxN-A2OtgA"
      }
    },
    {
      "cell_type": "code",
      "source": [
        "def create_remote_workers(n_workers):\n",
        "  hook = sy.TorchHook(torch)\n",
        "  return {n: sy.VirtualWorker(hook, id=str(n)) for n in range(n_workers)}"
      ],
      "metadata": {
        "id": "5OenW1Wyh0sR"
      },
      "execution_count": null,
      "outputs": []
    },
    {
      "cell_type": "markdown",
      "source": [
        "Now, we will take our dataset and distribute it across our remote workers. In the regular dataset, we normalized the entire dataset according to the means for each color channel provided by the ImageNet dataset's metadata. In a federated dataset, this doesn't work because pre-processing must be done with only local data on the individual remote devices. Otherwise, we risk leaking information about the entire dataset to the data on each of the nodes.\n",
        "\n",
        "The logic for creating the virtual remote workers and distributing the centralized database across these workers was taken from [this PySyft notebook](https://github.com/OpenMined/PySyft/blob/PySyft/syft_0.2.x/examples/tutorials/Part%2007%20-%20Federated%20Learning%20with%20Federated%20Dataset.ipynb)"
      ],
      "metadata": {
        "id": "4NzyZoc7PYXz"
      }
    },
    {
      "cell_type": "code",
      "source": [
        "def create_federated_dataset(path, n_workers):\n",
        "  dataloaders = create_regular_dataset(path, normalize=False)\n",
        "  workers = create_remote_workers(n_workers) # create workers\n",
        "  train_distributed_dataset = [] # store references to batches on virtual remote workers\n",
        "  for batch_idx, (data, target) in tqdm(enumerate(dataloaders['train'])):\n",
        "    # normalize each batch between 0 and 1\n",
        "    normed = data.clone()\n",
        "    normed = normed.view(data.size(0), -1)\n",
        "    normed -= normed.min(1, keepdim=True)[0]\n",
        "    normed /= normed.max(1, keepdim=True)[0]\n",
        "    normed = normed.view(data.shape)\n",
        "    normed = normed.send(workers[batch_idx % len(workers.keys())])\n",
        "    target = target.send(workers[batch_idx % len(workers.keys())])\n",
        "    train_distributed_dataset.append((normed, target))\n",
        "  \n",
        "  dataloaders['train'] = train_distributed_dataset\n",
        "  return dataloaders"
      ],
      "metadata": {
        "id": "e21NvEMYJw5P"
      },
      "execution_count": null,
      "outputs": []
    },
    {
      "cell_type": "code",
      "metadata": {
        "colab": {
          "base_uri": "https://localhost:8080/"
        },
        "id": "DxMvgR3wamVz",
        "outputId": "e3d9f0a2-ff3a-409b-bd88-bdc1058c6624"
      },
      "source": [
        "federated_dataloader = create_federated_dataset(path, n_workers=10)"
      ],
      "execution_count": null,
      "outputs": [
        {
          "output_type": "stream",
          "name": "stdout",
          "text": [
            "Created dataloaders\n"
          ]
        },
        {
          "output_type": "stream",
          "name": "stderr",
          "text": [
            "WARNING:root:Torch was already hooked... skipping hooking process\n",
            "592it [00:05, 110.58it/s]\n"
          ]
        }
      ]
    },
    {
      "cell_type": "markdown",
      "metadata": {
        "id": "XlNdhxKMm_Tx"
      },
      "source": [
        "## Training the Federated Learning Model"
      ]
    },
    {
      "cell_type": "code",
      "source": [
        "# build a new reset18 model\n",
        "model_fed = models.resnet18(pretrained=True)\n",
        "model_fed.fc = nn.Linear(model_fed.fc.in_features, 10)\n",
        "\n",
        "loss_fed, time_fed = train_model(\n",
        "    model_fed,\n",
        "    federated_dataloader,\n",
        "    criterion=nn.CrossEntropyLoss(),\n",
        "    optimizer=optim.SGD(model_fed.parameters(), lr=0.001),\n",
        "    subset_size=10,\n",
        "    num_epochs=10,\n",
        "    federated=True\n",
        "    )"
      ],
      "metadata": {
        "colab": {
          "base_uri": "https://localhost:8080/"
        },
        "id": "FOjQgxu9gn-V",
        "outputId": "097e67a4-4388-4825-bf07-faf8c241c9fd"
      },
      "execution_count": null,
      "outputs": [
        {
          "output_type": "stream",
          "name": "stderr",
          "text": [
            "100%|██████████| 10/10 [01:30<00:00,  9.01s/it]\n"
          ]
        }
      ]
    },
    {
      "cell_type": "markdown",
      "source": [
        "## Results and Discussion\n",
        "\n",
        "Now, we can compare the performance of the regular and federated learning models by comparing their training losses. Here, we see that both the federated and regular model seem to perform similarly across the first few batches. This is expected in this use case since the federated data is randomly distributed across nodes. Within specefic federated learning use cases, it is possible that certain remote devices induce biases on the data that is collected. This could either be through the hardware itself or imposed by the user themselves. This bias can negatively impact model performance substantially and can even be exploited as an [attack on federated learning systems](https://arxiv.org/abs/2007.08432)."
      ],
      "metadata": {
        "id": "JkTKCozZmNDi"
      }
    },
    {
      "cell_type": "code",
      "metadata": {
        "id": "s5tBwvmaZaf-"
      },
      "source": [
        "import matplotlib.pyplot as plt"
      ],
      "execution_count": null,
      "outputs": []
    },
    {
      "cell_type": "code",
      "metadata": {
        "colab": {
          "base_uri": "https://localhost:8080/",
          "height": 312
        },
        "id": "_qJPPzK4Zq7q",
        "outputId": "242ff444-b1a1-4745-d984-2910e29e52a5"
      },
      "source": [
        "plt.plot(loss_fed, color='darkorange', label='federated learning', alpha=0.75)\n",
        "plt.plot(loss_regular, color='blue', label='regular learning', alpha=0.5)\n",
        "plt.title('Training Loss')\n",
        "plt.xlabel('batches')\n",
        "plt.ylabel('loss')\n",
        "plt.legend()"
      ],
      "execution_count": null,
      "outputs": [
        {
          "output_type": "execute_result",
          "data": {
            "text/plain": [
              "<matplotlib.legend.Legend at 0x7f7c7d1ad790>"
            ]
          },
          "metadata": {},
          "execution_count": 75
        },
        {
          "output_type": "display_data",
          "data": {
            "image/png": "[encoded data removed]",
            "text/plain": [
              "<Figure size 432x288 with 1 Axes>"
            ]
          },
          "metadata": {
            "needs_background": "light"
          }
        }
      ]
    },
    {
      "cell_type": "markdown",
      "source": [
        "As mentioned earlier, PySyft and federated learning in general can have a few efficiency problems. Here, we see that the federated learning model took nearly 47 times as long to train per epoch on average than the regular model."
      ],
      "metadata": {
        "id": "LylYkgYFngSM"
      }
    },
    {
      "cell_type": "code",
      "source": [
        "plt.plot(time_fed['epoch'], color='darkorange', label='federated learning', alpha=0.75)\n",
        "plt.plot(time_regular['epoch'], color='blue', label='regular learning', alpha=0.5)\n",
        "plt.title('Training Times per Epoch')\n",
        "plt.xlabel('batches')\n",
        "plt.ylabel('loss')\n",
        "plt.legend()"
      ],
      "metadata": {
        "colab": {
          "base_uri": "https://localhost:8080/",
          "height": 312
        },
        "id": "eqRBMqfBiSDR",
        "outputId": "217c7ba2-e2f5-4e37-80f1-9ee7ac4807fa"
      },
      "execution_count": null,
      "outputs": [
        {
          "output_type": "execute_result",
          "data": {
            "text/plain": [
              "<matplotlib.legend.Legend at 0x7f7c7c4de690>"
            ]
          },
          "metadata": {},
          "execution_count": 76
        },
        {
          "output_type": "display_data",
          "data": {
            "image/png": "[encoded data removed]",
            "text/plain": [
              "<Figure size 432x288 with 1 Axes>"
            ]
          },
          "metadata": {
            "needs_background": "light"
          }
        }
      ]
    },
    {
      "cell_type": "markdown",
      "source": [
        "In order to better diagnose this issue, we also recorded the time it took to actually perform a forward and backward pass during training. This can help provide insight into the actual slow step of the learning process. Each network update for each method can be split up in two parts. The first is data preparation and the other is the actual forward and backward pass. For the regular model, data preparation involves loading the data and labels onto the GPU. For the federated model, this also involves sending the model to the virtual worker's process and after the network update, copying the new model back to the main process. "
      ],
      "metadata": {
        "id": "zuGrtW4_oAey"
      }
    },
    {
      "cell_type": "code",
      "source": [
        "labels = np.arange(10)\n",
        "width = 0.35\n",
        "\n",
        "fig, ax = plt.subplots()\n",
        "\n",
        "ax.bar(labels, time_fed['process'], width, label='Network Update')\n",
        "ax.bar(labels, time_fed['update'], width, bottom=time_fed['process'], label='Process')\n",
        "ax.legend()\n",
        "ax.set_xlabel('Epoch')\n",
        "ax.set_ylabel('Time (s)')\n",
        "ax.set_title('Federated Learning Run Time Breakdown')"
      ],
      "metadata": {
        "colab": {
          "base_uri": "https://localhost:8080/",
          "height": 312
        },
        "id": "KDM6kl6An_yl",
        "outputId": "72fb05c4-a3aa-4280-edb5-c6a3731cc68e"
      },
      "execution_count": null,
      "outputs": [
        {
          "output_type": "execute_result",
          "data": {
            "text/plain": [
              "Text(0.5, 1.0, 'Federated Learning Run Time Breakdown')"
            ]
          },
          "metadata": {},
          "execution_count": 85
        },
        {
          "output_type": "display_data",
          "data": {
            "image/png": "[encoded data removed]",
            "text/plain": [
              "<Figure size 432x288 with 1 Axes>"
            ]
          },
          "metadata": {
            "needs_background": "light"
          }
        }
      ]
    },
    {
      "cell_type": "code",
      "source": [
        "labels = np.arange(10)\n",
        "width = 0.35\n",
        "\n",
        "fig, ax = plt.subplots()\n",
        "\n",
        "ax.bar(labels, time_regular['process'], width, label='Network Update')\n",
        "ax.bar(labels, time_regular['update'], width, bottom=time_regular['process'], label='Process')\n",
        "ax.legend()\n",
        "ax.set_xlabel('Epoch')\n",
        "ax.set_ylabel('Time (s)')\n",
        "ax.set_title('Regular Learning Run Time Breakdown')"
      ],
      "metadata": {
        "colab": {
          "base_uri": "https://localhost:8080/",
          "height": 312
        },
        "id": "xQwmKHGnuG3B",
        "outputId": "12717879-687f-409d-ebd2-e020255ee660"
      },
      "execution_count": null,
      "outputs": [
        {
          "output_type": "execute_result",
          "data": {
            "text/plain": [
              "Text(0.5, 1.0, 'Regular Learning Run Time Breakdown')"
            ]
          },
          "metadata": {},
          "execution_count": 86
        },
        {
          "output_type": "display_data",
          "data": {
            "image/png": "[encoded data removed]",
            "text/plain": [
              "<Figure size 432x288 with 1 Axes>"
            ]
          },
          "metadata": {
            "needs_background": "light"
          }
        }
      ]
    },
    {
      "cell_type": "markdown",
      "source": [
        "Above, we chart the process and network update times for each batch for both the regular and federated learning results. Here, we see that PySyft spends a majority of time in the process steps, which mainly involves sending the model to and from the main process and virtual remote nodes. This seems to be the major contributor to the slow training times when using PySyft. The actual network updates also take a bit longer in the federated learning environment than in the regular learning times. This is likely due to the additional Multi-Party Computation (MPC) protocols that PySyft uses to ensure safe communication between remote nodes."
      ],
      "metadata": {
        "id": "71RXm1CNul23"
      }
    },
    {
      "cell_type": "markdown",
      "source": [
        "## The Cost of Privacy\n",
        "\n",
        "Here, we learned that federated learning offers similar performance to regular learning in terms of training loss, however, we also see that PySyft can lead to almost a 47x increase in training times. This shows us that privacy can come at a cost. In this case, the price we pay is computational efficiency. Despite this, federated learning still solves many problems that a centralized data storage strategy just cannot solve. For example, when there is a high volume of data distributed across many nodes, aggregating and storing all this data in a central database can be very expensive."
      ],
      "metadata": {
        "id": "O_zF0Md8mTvZ"
      }
    },
    {
      "cell_type": "markdown",
      "source": [
        "## Comparison to Differential Privacy.\n",
        "\n",
        "We follow this analysis in a separate analysis and extend upon the original [PySyft federated learning notebook](https://github.com/OpenMined/PySyft/blob/PySyft/syft_0.2.x/examples/tutorials/Part%2007%20-%20Federated%20Learning%20with%20Federated%20Dataset.ipynb) by comparing the performance of this model to another privacy preserving technique, Differential Privacy."
      ],
      "metadata": {
        "id": "oSooU2jD7bfC"
      }
    },
    {
      "cell_type": "code",
      "source": [
        " "
      ],
      "metadata": {
        "id": "1pFsGQaQ86cu"
      },
      "execution_count": null,
      "outputs": []
    }
  ]
}